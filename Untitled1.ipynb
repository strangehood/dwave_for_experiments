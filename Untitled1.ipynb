{
  "nbformat": 4,
  "nbformat_minor": 0,
  "metadata": {
    "colab": {
      "provenance": [],
      "toc_visible": true
    },
    "kernelspec": {
      "name": "python3",
      "display_name": "Python 3"
    },
    "language_info": {
      "name": "python"
    }
  },
  "cells": [
    {
      "cell_type": "markdown",
      "source": [],
      "metadata": {
        "id": "hfbopIkqX07w"
      }
    },
    {
      "cell_type": "code",
      "source": [
        "pip install dwave-samplers"
      ],
      "metadata": {
        "colab": {
          "base_uri": "https://localhost:8080/"
        },
        "id": "bDmvoPX1mO61",
        "outputId": "9d3a76d9-27b7-4786-9a1f-5995e3ec0c3e"
      },
      "execution_count": 1,
      "outputs": [
        {
          "output_type": "stream",
          "name": "stdout",
          "text": [
            "Looking in indexes: https://pypi.org/simple, https://us-python.pkg.dev/colab-wheels/public/simple/\n",
            "Collecting dwave-samplers\n",
            "  Downloading dwave_samplers-1.0.0-cp38-cp38-manylinux_2_17_x86_64.manylinux2014_x86_64.whl (6.1 MB)\n",
            "\u001b[2K     \u001b[90m━━━━━━━━━━━━━━━━━━━━━━━━━━━━━━━━━━━━━━━━\u001b[0m \u001b[32m6.1/6.1 MB\u001b[0m \u001b[31m20.1 MB/s\u001b[0m eta \u001b[36m0:00:00\u001b[0m\n",
            "\u001b[?25hRequirement already satisfied: numpy<2.0.0,>=1.19.0 in /usr/local/lib/python3.8/dist-packages (from dwave-samplers) (1.21.6)\n",
            "Requirement already satisfied: networkx>=2.4.0 in /usr/local/lib/python3.8/dist-packages (from dwave-samplers) (3.0)\n",
            "Collecting dimod<0.13.0,>=0.12.0\n",
            "  Downloading dimod-0.12.3-cp38-cp38-manylinux_2_17_x86_64.manylinux2014_x86_64.whl (15.9 MB)\n",
            "\u001b[2K     \u001b[90m━━━━━━━━━━━━━━━━━━━━━━━━━━━━━━━━━━━━━━━━\u001b[0m \u001b[32m15.9/15.9 MB\u001b[0m \u001b[31m38.3 MB/s\u001b[0m eta \u001b[36m0:00:00\u001b[0m\n",
            "\u001b[?25hInstalling collected packages: dimod, dwave-samplers\n",
            "Successfully installed dimod-0.12.3 dwave-samplers-1.0.0\n"
          ]
        }
      ]
    },
    {
      "cell_type": "code",
      "execution_count": 2,
      "metadata": {
        "id": "d0i6-2TxXzSx"
      },
      "outputs": [],
      "source": [
        "from dwave.samplers import SimulatedAnnealingSampler\n",
        "from typing import List, Sequence, Tuple, Optional, Union\n",
        "import numpy as np\n",
        "\n",
        "sampler = SimulatedAnnealingSampler()"
      ]
    },
    {
      "cell_type": "code",
      "source": [],
      "metadata": {
        "id": "ckX_BKq7Uo1f"
      },
      "execution_count": 2,
      "outputs": []
    },
    {
      "cell_type": "code",
      "source": [
        "def get_neigh_multipliers(neigh_num_list):\n",
        "  neigh_multipliers = []\n",
        "  for i in range(len(neigh_num_list)):\n",
        "    neigh_num = len(neigh_num_list[i])\n",
        "    neigh_multipliers.append([])\n",
        "    for k in range(2 ** neigh_num):\n",
        "      neigh_multipliers[i].append([])\n",
        "      t = k\n",
        "      for j in range(neigh_num):\n",
        "        if t % 2 == 0:\n",
        "          neigh_multipliers[i][k].append(-1)\n",
        "        else:\n",
        "          neigh_multipliers[i][k].append(1)\n",
        "        t = t // 2\n",
        "  return(neigh_multipliers)\n",
        "\n",
        "\n",
        "def get_offset_strategy(h, J, anneal_offset_ranges: Optional[List[float]] = []):\n",
        "  N = len(h)\n",
        "  r = []\n",
        "  neigh_num_list = []\n",
        "  neigh_multipliers = []\n",
        "  F = []\n",
        "  anneal_offset = []\n",
        "\n",
        "  for i in range(N):\n",
        "    r.append(h[i])\n",
        "    neigh_num_list.append([])\n",
        "    for j in range(N):\n",
        "      if (J.get((i, j)) != None):\n",
        "        neigh_num_list[i].append(j)\n",
        "      elif (J.get((j, i)) != None):\n",
        "        neigh_num_list[i].append(j)\n",
        "  neigh_multipliers = get_neigh_multipliers(neigh_num_list)\n",
        "  for i in range(N):\n",
        "\n",
        "  for i in range(N):\n",
        "    F.append([])\n",
        "    neigh_num = len(neigh_num_list[i])\n",
        "    for k in range(2 ** neigh_num):\n",
        "      F[i].append(0)\n",
        "      m = 0\n",
        "      for j in range(N):\n",
        "        if (J.get((i, j)) != None):\n",
        "          F[i][k] += neigh_multipliers[i][k][m] * J[(i, j)]\n",
        "          m += 1\n",
        "        elif (J.get((j, i)) != None):\n",
        "          F[i][k] += neigh_multipliers[i][k][m] * J[(j, i)]\n",
        "          m += 1\n",
        "          \n",
        "      F[i][k] = abs(F[i][k])\n",
        "        \n",
        "      r[i] += F[i][k]\n",
        "    r[i] = r[i] / (max(F[i]) * 2 ** neigh_num)\n",
        "    if r[i] >= 0.5:\n",
        "      anneal_offset.append(max(0.64 * (1 - 2 * r[i]), anneal_offset_ranges[i][0])) #max(x, \\delta_min)\n",
        "    else:\n",
        "      anneal_offset.append(min(0.64 * (1 - 2 * r[i]), anneal_offset_ranges[i][1])) #min(x, \\delta_max)\n",
        "\n",
        "  return anneal_offset \n",
        "  \n",
        "  "
      ],
      "metadata": {
        "id": "WIV4n8xStCO8"
      },
      "execution_count": 77,
      "outputs": []
    },
    {
      "cell_type": "code",
      "execution_count": 75,
      "metadata": {
        "id": "K_2dDfGXamOt"
      },
      "outputs": [],
      "source": [
        "#Ising model init:\n",
        "\n",
        "h = {0: 1.0, 1: -1.0, 2: -1.0, 3: 1.0, 4: 1.0, 5: -1.0, 6: 0.0, 7: 1.0}\n",
        "\n",
        "J = {(0, 1): -1, (0, 3): -1, (1, 2): -1, (2, 3): -1, (2, 4): -0.05, \n",
        "     (4, 5): -0.05, (5, 6): -0.05, (6, 7): -0.05, (7, 4): -0.05,}"
      ]
    },
    {
      "cell_type": "code",
      "source": [
        "anneal_offset_ranges = []\n",
        "for i in range(len(h)):\n",
        "        anneal_offset_ranges.append([-0.5, 0.5])\n",
        "print(get_offset_strategy(h, J, anneal_offset_ranges))"
      ],
      "metadata": {
        "id": "LE76I-qFdna5",
        "colab": {
          "base_uri": "https://localhost:8080/"
        },
        "outputId": "3d2b2ad8-87cb-4527-d2fe-649c31875198"
      },
      "execution_count": 78,
      "outputs": [
        {
          "output_type": "stream",
          "name": "stdout",
          "text": [
            "-0.05\n",
            "[[-1, -1], [1, -1], [-1, 1], [1, 1]]\n",
            "[[-1, -1], [1, -1], [-1, 1], [1, 1]]\n",
            "[[-1, -1, -1], [1, -1, -1], [-1, 1, -1], [1, 1, -1], [-1, -1, 1], [1, -1, 1], [-1, 1, 1], [1, 1, 1]]\n",
            "[[-1, -1], [1, -1], [-1, 1], [1, 1]]\n",
            "[[-1, -1, -1], [1, -1, -1], [-1, 1, -1], [1, 1, -1], [-1, -1, 1], [1, -1, 1], [-1, 1, 1], [1, 1, 1]]\n",
            "[[-1, -1], [1, -1], [-1, 1], [1, 1]]\n",
            "[[-1, -1], [1, -1], [-1, 1], [1, 1]]\n",
            "[[-1, -1], [1, -1], [-1, 1], [1, 1]]\n",
            "[-0.16, 0.16, 0.07804878048780488, -0.16, -0.5, 0.5, 0.0, -0.5]\n"
          ]
        }
      ]
    }
  ]
}